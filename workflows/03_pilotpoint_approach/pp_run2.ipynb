{
 "cells": [
  {
   "cell_type": "code",
   "execution_count": 1,
   "id": "136f13c5",
   "metadata": {},
   "outputs": [],
   "source": [
    "%matplotlib inline\n",
    "import os\n",
    "import sys\n",
    "import pyemu\n",
    "from swatmf import swatmf_pst_utils, swatmf_pst_par, swatmf_pst_viz\n",
    "import pandas as pd\n",
    "# swatmf_pst_viz"
   ]
  },
  {
   "cell_type": "code",
   "execution_count": 2,
   "id": "fb7d4ead",
   "metadata": {},
   "outputs": [
    {
     "data": {
      "text/plain": [
       "'0.2.4'"
      ]
     },
     "execution_count": 2,
     "metadata": {},
     "output_type": "execute_result"
    }
   ],
   "source": [
    "import swatmf\n",
    "swatmf.__version__"
   ]
  },
  {
   "cell_type": "markdown",
   "id": "dabb15c9",
   "metadata": {},
   "source": [
    "# 1. Specify a path to your main"
   ]
  },
  {
   "cell_type": "code",
   "execution_count": 13,
   "id": "19e62f3e",
   "metadata": {},
   "outputs": [],
   "source": [
    "wd = \"D:\\\\Projects\\\\Watersheds\\\\Yaser\\\\SWAT-MODFLOW\"\n",
    "os.chdir(wd)"
   ]
  },
  {
   "cell_type": "markdown",
   "id": "2fff5461",
   "metadata": {},
   "source": [
    "# 2. Initial run for adjusting weights"
   ]
  },
  {
   "cell_type": "code",
   "execution_count": 4,
   "id": "d8fed7e0",
   "metadata": {},
   "outputs": [],
   "source": [
    "casename = \"uml_pest.pst\""
   ]
  },
  {
   "cell_type": "code",
   "execution_count": 5,
   "id": "9376022d",
   "metadata": {},
   "outputs": [
    {
     "data": {
      "text/plain": [
       "0"
      ]
     },
     "execution_count": 5,
     "metadata": {},
     "output_type": "execute_result"
    }
   ],
   "source": [
    "os.system(\"start cmd /k i64pest {0}\".format(casename))"
   ]
  },
  {
   "cell_type": "markdown",
   "id": "15bea295",
   "metadata": {},
   "source": [
    "# 3. Reweight"
   ]
  },
  {
   "cell_type": "code",
   "execution_count": 14,
   "id": "844fc784",
   "metadata": {},
   "outputs": [],
   "source": [
    "pestoutfile = \"uml_pest_rw.pst\"\n",
    "contrib = 8.85534E+08"
   ]
  },
  {
   "cell_type": "code",
   "execution_count": 7,
   "id": "53255a85",
   "metadata": {},
   "outputs": [
    {
     "data": {
      "text/plain": [
       "0"
      ]
     },
     "execution_count": 7,
     "metadata": {},
     "output_type": "execute_result"
    }
   ],
   "source": [
    "os.system(\"start cmd /k i64pwtadj1 {0} {1} {2}\".format(casename, pestoutfile, contrib))"
   ]
  },
  {
   "cell_type": "markdown",
   "id": "6456c5b7",
   "metadata": {},
   "source": [
    "# 4. Run Parallel PEST with BeoPEST"
   ]
  },
  {
   "cell_type": "code",
   "execution_count": 11,
   "id": "97e9abae",
   "metadata": {},
   "outputs": [],
   "source": [
    "swatmf_pst_utils.execute_beopest?"
   ]
  },
  {
   "cell_type": "code",
   "execution_count": 17,
   "id": "73103f6e",
   "metadata": {},
   "outputs": [],
   "source": [
    "swatmf_pst_utils.execute_beopest(wd, pestoutfile, num_workers=3, reuse_workers=True)"
   ]
  },
  {
   "cell_type": "markdown",
   "id": "4524fa33",
   "metadata": {},
   "source": [
    "# 5. Run or add workers separately"
   ]
  },
  {
   "cell_type": "code",
   "execution_count": 17,
   "id": "5f286760",
   "metadata": {},
   "outputs": [],
   "source": [
    "swatmf_pst_utils.execute_workers(\n",
    "    wd, pestoutfile, \"192.168.1.119\", num_workers=3,start_id=5,\n",
    "    )\n"
   ]
  },
  {
   "cell_type": "code",
   "execution_count": null,
   "id": "22b63e32",
   "metadata": {},
   "outputs": [],
   "source": [
    "pst = pyemu.Pst(os.path.join(wd,pestoutfile))\n",
    "pst.phi"
   ]
  },
  {
   "cell_type": "code",
   "execution_count": 31,
   "id": "660a1d16",
   "metadata": {
    "scrolled": true
   },
   "outputs": [],
   "source": [
    "pst.res.loc[pst.nnz_obs_names,:]"
   ]
  },
  {
   "cell_type": "code",
   "execution_count": 56,
   "id": "74712318",
   "metadata": {
    "scrolled": false
   },
   "outputs": [],
   "source": [
    "os.chdir(wd)\n",
    "swatmf_pst_viz.phi_progress_plot(pestoutfile)"
   ]
  },
  {
   "cell_type": "code",
   "execution_count": null,
   "id": "282e58c6",
   "metadata": {
    "scrolled": false
   },
   "outputs": [],
   "source": [
    "figs = pst.plot(kind=\"1to1\")"
   ]
  },
  {
   "cell_type": "markdown",
   "id": "a85a7a4d",
   "metadata": {},
   "source": [
    "# 6. Linear Analysis"
   ]
  },
  {
   "cell_type": "markdown",
   "id": "98239b57",
   "metadata": {},
   "source": [
    "## 6.1 Statistics - Create the \"param.unc\" file"
   ]
  },
  {
   "cell_type": "code",
   "execution_count": null,
   "id": "07005f31",
   "metadata": {},
   "outputs": [],
   "source": [
    "create_param_unc?"
   ]
  },
  {
   "cell_type": "code",
   "execution_count": null,
   "id": "0004aced",
   "metadata": {},
   "outputs": [],
   "source": [
    "create_param_unc(\"qsm_reweight.pst\")"
   ]
  },
  {
   "cell_type": "code",
   "execution_count": null,
   "id": "70d4e5b8",
   "metadata": {},
   "outputs": [],
   "source": [
    "test = create_param_unc(\"qsm_reweight.pst\")"
   ]
  },
  {
   "cell_type": "markdown",
   "id": "62488f98",
   "metadata": {},
   "source": [
    "## 6.2 Calibration with SVD"
   ]
  },
  {
   "cell_type": "code",
   "execution_count": null,
   "id": "bb426c03",
   "metadata": {},
   "outputs": [],
   "source": [
    "execute_beopest(wd, \"svd-reg.pst\", 15)"
   ]
  }
 ],
 "metadata": {
  "kernelspec": {
   "display_name": "Python 3",
   "language": "python",
   "name": "python3"
  },
  "language_info": {
   "codemirror_mode": {
    "name": "ipython",
    "version": 3
   },
   "file_extension": ".py",
   "mimetype": "text/x-python",
   "name": "python",
   "nbconvert_exporter": "python",
   "pygments_lexer": "ipython3",
   "version": "3.9.13"
  }
 },
 "nbformat": 4,
 "nbformat_minor": 5
}
