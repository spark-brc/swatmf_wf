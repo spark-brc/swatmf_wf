{
 "cells": [
  {
   "cell_type": "code",
   "execution_count": null,
   "id": "739a332f",
   "metadata": {},
   "outputs": [],
   "source": [
    "%matplotlib inline\n",
    "import os\n",
    "import pandas as pd\n",
    "import numpy as np\n",
    "import flopy\n",
    "import pyemu\n",
    "import swatmf\n",
    "import matplotlib.pyplot as plt\n",
    "swatmf.__version__"
   ]
  },
  {
   "cell_type": "code",
   "execution_count": null,
   "id": "3be39a6f",
   "metadata": {},
   "outputs": [],
   "source": [
    "from swatmf import swatmf_pst_utils, swatmf_pst_par"
   ]
  },
  {
   "cell_type": "markdown",
   "id": "4c310e8d",
   "metadata": {},
   "source": [
    "# 1. Set up \n",
    "## 1.1 write swatmf.con file"
   ]
  },
  {
   "cell_type": "code",
   "execution_count": null,
   "id": "8203eb76",
   "metadata": {},
   "outputs": [],
   "source": [
    "# working directory and file names\n",
    "wd = \"C:\\\\Users\\\\ykishawi2\\\\Desktop\\\\18-SWATMODFLOW_UML\\\\UMLCoupledNov15\\\\SWAT-MODFLOW\"\n",
    "swat_wd = \"C:\\\\Users\\\\ykishawi2\\\\Desktop\\\\18-SWATMODFLOW_UML\\\\UMLCoupledNov15\\\\SWAT Model Folder\"\n",
    "\n",
    "# calibration period\n",
    "sim_start = '1/1/1995'\n",
    "warmup = 5\n",
    "cal_start = '1/1/2000'\n",
    "cal_end = '12/31/2010'\n",
    "\n",
    "# time step\n",
    "time_step = 'month'\n",
    "\n",
    "# extract simulation (what our targets)\n",
    "# locations\n",
    "subs = [37]\n",
    "grids = [1868, 5092, 7429, 7783, 9134, 15067, 20434, 21187, 22646, 22914, 23607, 24351,\n",
    "         25198, 25561, 26256, 26388, 27772, 28850, 31134, 32175, 32188, 35890, 43189]\n",
    "\n",
    "# pilot points included\n",
    "k_pp = ['hk{}pp.dat'.format(i) for i in range(3)]\n",
    "sy_pp = ['sy{}pp.dat'.format(i) for i in range(3)]\n",
    "ss_pp = ['ss{}pp.dat'.format(i) for i in range(3)]\n",
    "pp_included= k_pp + sy_pp + ss_pp\n",
    "\n",
    "os.chdir(wd)"
   ]
  },
  {
   "cell_type": "code",
   "execution_count": null,
   "id": "23e0f2b3",
   "metadata": {},
   "outputs": [],
   "source": [
    "print(pp_included)"
   ]
  },
  {
   "cell_type": "code",
   "execution_count": null,
   "id": "0613fd71",
   "metadata": {},
   "outputs": [],
   "source": [
    "con = swatmf_pst_utils.create_swatmf_con(\n",
    "    wd, sim_start, warmup, cal_start, cal_end,\n",
    "    subs=subs, grids=grids, \n",
    "    time_step=time_step,\n",
    "    riv_parm=True,\n",
    "    pp_included=pp_included\n",
    "    )"
   ]
  },
  {
   "cell_type": "code",
   "execution_count": null,
   "id": "0f685e2c",
   "metadata": {},
   "outputs": [],
   "source": [
    "con"
   ]
  },
  {
   "cell_type": "markdown",
   "id": "2af36881",
   "metadata": {},
   "source": [
    "## 1.2 Initiate PEST"
   ]
  },
  {
   "cell_type": "code",
   "execution_count": null,
   "id": "3a6a32da",
   "metadata": {},
   "outputs": [],
   "source": [
    "# copy all necessary files (exes) to your working direcotry\n",
    "swatmf_pst_utils.init_setup(wd, swat_wd)"
   ]
  },
  {
   "cell_type": "markdown",
   "id": "c028e9f2",
   "metadata": {},
   "source": [
    "# 2. Build template files"
   ]
  },
  {
   "cell_type": "markdown",
   "id": "b0dcfb8e",
   "metadata": {},
   "source": [
    "## 2.1 MODFLOW parameters with Pilot Points"
   ]
  },
  {
   "cell_type": "code",
   "execution_count": null,
   "id": "3c02eba0",
   "metadata": {},
   "outputs": [],
   "source": [
    "# m = flopy.modflow.Modflow.load(fs.MODEL_NAM,model_ws=wd,load_only=[]) #<-- load only prevents reading ibound\n",
    "mname = 'modflow.mfn'\n",
    "m = flopy.modflow.Modflow.load(mname,\n",
    "            model_ws=wd\n",
    "            )\n",
    "m.check()"
   ]
  },
  {
   "cell_type": "code",
   "execution_count": null,
   "id": "c5d1e27e",
   "metadata": {},
   "outputs": [],
   "source": [
    "m.bas6.ibound[0].plot()"
   ]
  },
  {
   "cell_type": "markdown",
   "id": "b7e11fd2",
   "metadata": {},
   "source": [
    "### Create pilot points as a shapefile\n",
    "- 25 points with first layer for hk, sy\n",
    "- 9 points with second\n",
    "- 3 points with 3rd\n",
    "- homogeneous with 4th"
   ]
  },
  {
   "cell_type": "code",
   "execution_count": null,
   "id": "f5807227",
   "metadata": {},
   "outputs": [],
   "source": [
    "#START OF EXAMPLE CELLS\n",
    "#THIS IS EXAMPLE AND LATER INCLUDED IN THE LOOP, NO NEED TO RUN THIS CELL\n",
    "# Create pilot points as a shapefile\n",
    "# we want hk pilot points in the top layer...\n",
    "prefix_dict = {0:[\"sy0\"]}\n",
    "df_pp_hk = pyemu.pp_utils.setup_pilotpoints_grid(ml=m,\n",
    "                                              prefix_dict=prefix_dict,\n",
    "                                              pp_dir=wd,\n",
    "                                              tpl_dir=wd,\n",
    "                                              every_n_cell=30,\n",
    "                                              shapename='pp_sy0.shp')\n",
    "# pp_file = os.path.join(working_dir,\"sypp.dat\")\n",
    "# assert os.path.exists(pp_file)"
   ]
  },
  {
   "cell_type": "markdown",
   "id": "20bfe411",
   "metadata": {},
   "source": [
    "So cool, we now defined pilot points as a set of spatially distributed parameters...but how do go from pilot points to the model input HK array? Answer: geostatistics.  We need to calculate the geostatistical factors (weights) used to form the interpolated value for the HK value at each model cell - its a spatially-weighted combination of pilot point values"
   ]
  },
  {
   "cell_type": "markdown",
   "id": "6055a64b",
   "metadata": {},
   "source": [
    "## Need to create Kriging factors and regularization inputs\n",
    "Following the guidelines in _Approaches to Highly Parameterized Inversion: Pilot-Point Theory, Guidelines, and Research Directions_ https://pubs.usgs.gov/sir/2010/5168/"
   ]
  },
  {
   "cell_type": "markdown",
   "id": "81d041a0",
   "metadata": {},
   "source": [
    "### First we need to define a couple geostatistical structures (e.g. variograms)\n",
    "\n",
    "From _PEST Groundwater Data Utilities Part A: Overview_ page 43, there are 4 acceptable variogram types:\n",
    "\n",
    " 1. *Spherical*  \n",
    "### $\\gamma\\left(h\\right)=c\\times\\left[1.5\\frac{h}{a}-0.5\\frac{h}{a}^3\\right]$ if $h<a$\n",
    "### $\\gamma\\left(h\\right)=c$ if $h \\ge a$  \n",
    "     \n",
    " 2. *Exponential*  \n",
    "### $\\gamma\\left(h\\right)=c\\times\\left[1-\\exp\\left(-\\frac{h}{a}\\right)\\right]$  \n",
    "     \n",
    " 3. *Gaussian*  \n",
    "### $\\gamma\\left(h\\right)=c\\times\\left[1-\\exp\\left(-\\frac{h^2}{a^2}\\right)\\right]$  \n",
    " \n",
    " 4. *Power*  \n",
    "### $\\gamma\\left(h\\right)=c\\times h^a$\n",
    "     \n",
    " The number refers to `VARTYPE`. `BEARING` and `ANISOTROPY` only apply if there is a principal direction of anisotropy. $h$ is the separation distance, and $a$ is the range, expressed with the `A` parameter.\n"
   ]
  },
  {
   "cell_type": "markdown",
   "id": "14a31967",
   "metadata": {},
   "source": [
    "### First, let's create ``variogram`` and ``GeoStruct`` objects.  \n",
    "\n",
    "These describe how HK varies spatailly, remember?"
   ]
  },
  {
   "cell_type": "code",
   "execution_count": null,
   "id": "d6b458a7",
   "metadata": {},
   "outputs": [],
   "source": [
    "v = pyemu.geostats.ExpVario(contribution=200,a=30000)\n",
    "gs = pyemu.geostats.GeoStruct(variograms=v,nugget=0.0)\n",
    "ax = gs.plot()\n",
    "ax.grid()\n",
    "# ax.set_ylim(0,2.0)"
   ]
  },
  {
   "cell_type": "code",
   "execution_count": null,
   "id": "70610243",
   "metadata": {},
   "outputs": [],
   "source": [
    "ok = pyemu.geostats.OrdinaryKrige(gs,df_pp_hk)"
   ]
  },
  {
   "cell_type": "code",
   "execution_count": null,
   "id": "1c9920cf",
   "metadata": {},
   "outputs": [],
   "source": [
    "#NO NEED TO RUN THIS CELL, THIS IS JUST EXAMPLE, IT IS INCLUDED LATER IN THE LOOP\n",
    "df = ok.calc_factors_grid(\n",
    "            m.sr,\n",
    "            var_filename= \"sy0pp.var.ref\",\n",
    "            minpts_interp=1,\n",
    "            maxpts_interp=30,\n",
    "            search_radius=200000,\n",
    "            verbose=True,\n",
    "            num_threads=12)"
   ]
  },
  {
   "cell_type": "markdown",
   "id": "3baa68bb",
   "metadata": {},
   "source": [
    "One of the really cool things about geostatistics is that it gives you both the interpolation (factors), but also gives you the uncertainty in the areas between control (pilot) points.  Above, we wrote this uncertainty information to an array that has the same rows and cols as the model grid - this array is very useful for understanding the function of the variogram."
   ]
  },
  {
   "cell_type": "code",
   "execution_count": null,
   "id": "dd5b2c0b",
   "metadata": {},
   "outputs": [],
   "source": [
    "#NO NEED TO RUN THIS CELL, THIS IS JUST EXAMPLE, IT IS INCLUDED LATER IN THE LOOP\n",
    "\n",
    "# arr_var = np.loadtxt(pst_name.replace(\".pst\",\".var.ref\"))\n",
    "arr_var = np.loadtxt(\"sy0pp.var.ref\")\n",
    "ax = plt.subplot(111,aspect=\"equal\")\n",
    "p = ax.imshow(arr_var,extent=m.sr.get_extent(),alpha=0.25)\n",
    "plt.colorbar(p)\n",
    "ax.scatter(df_pp_hk.x,df_pp_hk.y,marker='.',s=4,color='r')\n",
    "#END OF EXAMPLE CELLS"
   ]
  },
  {
   "cell_type": "markdown",
   "id": "9ef77001",
   "metadata": {},
   "source": [
    "##"
   ]
  },
  {
   "cell_type": "code",
   "execution_count": null,
   "id": "cee4da0d",
   "metadata": {},
   "outputs": [],
   "source": [
    "#THE PREVIOUS CELLS ARE EXAMPLE, THIS CELL IS THE CONTINUATION OF SETUP CODE\n",
    "lyrs = 3\n",
    "cell_nums = [30, 50, 80]\n",
    "hk_prefix = ['hk{}'.format(i) for i in range(lyrs)]\n",
    "sy_prefix = ['sy{}'.format(i) for i in range(lyrs)]\n",
    "ss_prefix = ['ss{}'.format(i) for i in range(lyrs)]\n"
   ]
  },
  {
   "cell_type": "code",
   "execution_count": null,
   "id": "62f2bc85",
   "metadata": {},
   "outputs": [],
   "source": [
    "sy_prefix"
   ]
  },
  {
   "cell_type": "code",
   "execution_count": null,
   "id": "4873d3d0",
   "metadata": {},
   "outputs": [],
   "source": [
    "#LOOP CELL\n",
    "#THIS CELL SHOULD BE REPEATED AS THE NUMBER OF MODFLOW PARAMTER WE WANT TO PREPARE\n",
    "#HERE IS HAS sy_prefix, then we choose the correct contribtion and correct a, then hk and change contribution and a and so on\n",
    "##ss_prefix contribution=2.4e-6;   sy_prefix contribution=0.8;   hk_prefix contribution=200\n",
    "for s, c in zip(hk_prefix, cell_nums):\n",
    "    prefix_dict = {0:[s]}\n",
    "    df_pp = pyemu.pp_utils.setup_pilotpoints_grid(ml=m,\n",
    "                                                  prefix_dict=prefix_dict,\n",
    "                                                  pp_dir=wd,\n",
    "                                                  tpl_dir=wd,\n",
    "                                                  every_n_cell=c,\n",
    "                                                  shapename='pp_{}.shp'.format(s))\n",
    "    v = pyemu.geostats.ExpVario(contribution=200,a=30000)\n",
    "    gs = pyemu.geostats.GeoStruct(variograms=v,nugget=0.0)\n",
    "    ok = pyemu.geostats.OrdinaryKrige(gs,df_pp)\n",
    "    df = ok.calc_factors_grid(\n",
    "                m.sr,\n",
    "                var_filename= \"{}pp.var.ref\".format(s),\n",
    "                minpts_interp=1,\n",
    "                maxpts_interp=30,\n",
    "                search_radius=200000,\n",
    "                verbose=True,\n",
    "                num_threads=12)    \n",
    "    ok.to_grid_factors_file(\"{}pp.dat.fac\".format(s))"
   ]
  },
  {
   "cell_type": "markdown",
   "id": "07746868",
   "metadata": {},
   "source": [
    "## 2.2 River parameters with Pilot Points"
   ]
  },
  {
   "cell_type": "code",
   "execution_count": null,
   "id": "da67c4b7",
   "metadata": {},
   "outputs": [],
   "source": [
    "# provide channel ids that will be used for calibration\n",
    "rivgs = ['rg002', 'rg003', 'rg004', 'rg009', 'rg010']\n",
    "swatmf_pst_par.create_riv_par(wd, rivgs)"
   ]
  },
  {
   "cell_type": "code",
   "execution_count": null,
   "id": "79684089",
   "metadata": {},
   "outputs": [],
   "source": [
    "# create a template file for mf_riv.par file\n",
    "swatmf_pst_utils.riv_par_to_template_file('mf_riv.par')"
   ]
  },
  {
   "cell_type": "code",
   "execution_count": null,
   "id": "317f934e",
   "metadata": {},
   "outputs": [],
   "source": [
    "# overwrite the river package file\n",
    "swatmf_pst_par.riv_par(wd)"
   ]
  },
  {
   "cell_type": "markdown",
   "id": "af4e6cc3",
   "metadata": {},
   "source": [
    "## 2.3 SWAT model.in file"
   ]
  },
  {
   "cell_type": "code",
   "execution_count": null,
   "id": "06bad0d8",
   "metadata": {},
   "outputs": [],
   "source": [
    "# model.in file used\n",
    "sw_par = swatmf_pst_utils.model_in_to_template_file()\n",
    "sw_par"
   ]
  },
  {
   "cell_type": "markdown",
   "id": "ce0005a5",
   "metadata": {},
   "source": [
    "# 3. Create instruction files"
   ]
  },
  {
   "cell_type": "markdown",
   "id": "93d7d5fc",
   "metadata": {},
   "source": [
    "## 3.1 Depth to watertable (MODFLOW) "
   ]
  },
  {
   "cell_type": "code",
   "execution_count": null,
   "id": "1f7e1e4e",
   "metadata": {},
   "outputs": [],
   "source": [
    "grids"
   ]
  },
  {
   "cell_type": "code",
   "execution_count": null,
   "id": "35506035",
   "metadata": {},
   "outputs": [],
   "source": [
    "swatmf_pst_utils.extract_depth_to_water(grids, sim_start, cal_end)\n",
    "#There is a problem creating the last three grid wells 32188, 35890, 43189\n",
    "# I also removed these three wells from modflow.obd"
   ]
  },
  {
   "cell_type": "code",
   "execution_count": null,
   "id": "e8fd02a3",
   "metadata": {},
   "outputs": [],
   "source": [
    "# get dtw col nams \n",
    "dtw_df = pd.read_csv(\n",
    "                    \"modflow.obd\",\n",
    "                    sep='\\t',\n",
    "                    index_col=0,\n",
    "                    header=0,\n",
    "                    parse_dates=True,\n",
    "                    na_values=[-999, \"\"])\n",
    "dtw_df"
   ]
  },
  {
   "cell_type": "code",
   "execution_count": null,
   "id": "d0290628",
   "metadata": {},
   "outputs": [],
   "source": [
    "sim_files = ['dtw_{}.txt'.format(i) for i in grids]\n",
    "obd_cols = ['W{}'.format(i) for i in grids]"
   ]
  },
  {
   "cell_type": "code",
   "execution_count": null,
   "id": "9a6893e5",
   "metadata": {},
   "outputs": [],
   "source": [
    "sim_files"
   ]
  },
  {
   "cell_type": "code",
   "execution_count": null,
   "id": "9a663c8e",
   "metadata": {},
   "outputs": [],
   "source": [
    "obd_cols"
   ]
  },
  {
   "cell_type": "code",
   "execution_count": null,
   "id": "e9190fe2",
   "metadata": {},
   "outputs": [],
   "source": [
    "for s, o in zip(sim_files, obd_cols):\n",
    "    swatmf_pst_utils.mf_obd_to_ins(s, o, cal_start, cal_end)"
   ]
  },
  {
   "cell_type": "markdown",
   "id": "257e4d09",
   "metadata": {},
   "source": [
    "## 4.1 Streamflow (SWAT)"
   ]
  },
  {
   "cell_type": "code",
   "execution_count": null,
   "id": "5931f923",
   "metadata": {},
   "outputs": [],
   "source": [
    "# extract daily stream discharge\n",
    "swatmf_pst_utils.extract_month_stf(subs, sim_start, warmup, cal_start, cal_end)"
   ]
  },
  {
   "cell_type": "code",
   "execution_count": null,
   "id": "7f77f3c9",
   "metadata": {},
   "outputs": [],
   "source": [
    "# create stf_mon.obd\n",
    "stf_obd = pd.read_csv(\n",
    "                    'streamflow.obd',\n",
    "                    sep='\\t',\n",
    "                    usecols=['Date', 'sub_37'],\n",
    "                    index_col=0,\n",
    "                    parse_dates=True,\n",
    "                    na_values=[-999, '']\n",
    "                    )\n",
    "stf_obd = stf_obd.resample('M').mean()\n",
    "stf_obd.to_csv('stf_mon.obd', sep='\\t', float_format='%.7e')"
   ]
  },
  {
   "cell_type": "code",
   "execution_count": null,
   "id": "404baaed",
   "metadata": {},
   "outputs": [],
   "source": []
  },
  {
   "cell_type": "markdown",
   "id": "5d2d3ea3",
   "metadata": {},
   "source": [
    "## 4.2 match it with dtw_obd file (MODFLOW)"
   ]
  },
  {
   "cell_type": "code",
   "execution_count": null,
   "id": "7be9aa47",
   "metadata": {},
   "outputs": [],
   "source": [
    "swatmf_pst_utils.stf_obd_to_ins?"
   ]
  },
  {
   "cell_type": "code",
   "execution_count": null,
   "id": "2a9ba501",
   "metadata": {},
   "outputs": [],
   "source": [
    "swatmf_pst_utils.stf_obd_to_ins('str_037.txt', 'sub_37',cal_start, cal_end, time_step='month')"
   ]
  },
  {
   "cell_type": "markdown",
   "id": "8d7ff613",
   "metadata": {},
   "source": [
    "# 5. Create PEST control file"
   ]
  },
  {
   "cell_type": "code",
   "execution_count": null,
   "id": "3a502841",
   "metadata": {},
   "outputs": [],
   "source": [
    "io_files = pyemu.helpers.parse_dir_for_io_files('.')\n",
    "pst = pyemu.Pst.from_io_files(*io_files)\n",
    "pyemu.helpers.pst_from_io_files(io_files[0], io_files[1], io_files[2], io_files[3], 'uml_dummy.pst')\n",
    "io_files"
   ]
  },
  {
   "cell_type": "code",
   "execution_count": null,
   "id": "ee6df712",
   "metadata": {},
   "outputs": [],
   "source": [
    "par = pst.parameter_data\n",
    "par"
   ]
  },
  {
   "cell_type": "markdown",
   "id": "63377aec",
   "metadata": {},
   "source": [
    "## 5.1 Assign parameter group name"
   ]
  },
  {
   "cell_type": "code",
   "execution_count": null,
   "id": "15759566",
   "metadata": {},
   "outputs": [],
   "source": [
    "for i in range(len(par)):\n",
    "    if (par.iloc[i, 0][:2]) == 'sy':\n",
    "        par.iloc[i, 6] = 'sy'\n",
    "    elif par.iloc[i, 0][:7] == 'rivbot_':\n",
    "        par.iloc[i, 6] = 'rivbot'\n",
    "    elif par.iloc[i, 0][:6] == 'rivcd_':\n",
    "        par.iloc[i, 6] = 'rivcd'\n",
    "    elif par.iloc[i, 0][:2] == 'hk':\n",
    "        par.iloc[i, 6] = 'hk'\n",
    "    elif par.iloc[i, 0][:2] == 'ss':\n",
    "        par.iloc[i, 6] = 'ss'\n",
    "    else:\n",
    "        par.iloc[i, 6] = 'swat'\n",
    "print(par)"
   ]
  },
  {
   "cell_type": "markdown",
   "id": "15b60c44",
   "metadata": {},
   "source": [
    "## 5.2 Adjust initial parameter values and their ranges"
   ]
  },
  {
   "cell_type": "code",
   "execution_count": null,
   "id": "15f364a1",
   "metadata": {},
   "outputs": [],
   "source": [
    "count = 0\n",
    "for i in range(len(par)):\n",
    "    if (par.iloc[i, 6] == 'hk'):\n",
    "        par.iloc[i, 3] = 18               #initial value\n",
    "        par.iloc[i, 4] = 4.200000e-01    #lower value\n",
    "        par.iloc[i, 5] = 4.050000e+02    #upper value\n",
    "    elif (par.iloc[i, 6] == 'sy'):\n",
    "        par.iloc[i, 3] = 2.000000e-01 #intial value       \n",
    "        par.iloc[i, 4] = 1.000000e-04 #lower value\n",
    "        par.iloc[i, 5] = 0.6          #upper value\n",
    "    elif (par.iloc[i, 6] == 'ss'):\n",
    "        par.iloc[i, 3] = 3.300000e-06 #inital value       \n",
    "        par.iloc[i, 4] = 3.000000e-06 #lower value\n",
    "        par.iloc[i, 5] = 3.400000e-06 #upper value\n",
    "    elif (par.iloc[i, 6] == 'rivbot'):\n",
    "        par.iloc[i, 3] = 3.001     \n",
    "        par.iloc[i, 4] = 0.001\n",
    "        par.iloc[i, 5] = 6\n",
    "        par.iloc[i, 8] = -3\n",
    "    elif (par.iloc[i, 6] == 'rivcd'):\n",
    "        par.iloc[i, 3] = 50.001       \n",
    "        par.iloc[i, 4] = 0.001\n",
    "        par.iloc[i, 5] = 100\n",
    "        par.iloc[i, 8] = -50\n",
    "    else:\n",
    "        count += 1\n",
    "count"
   ]
  },
  {
   "cell_type": "code",
   "execution_count": null,
   "id": "481a30e2",
   "metadata": {},
   "outputs": [],
   "source": [
    "# CN2\n",
    "par.loc['cn2', 'parval1'] = 66\n",
    "par.loc['cn2', 'parlbnd'] = 35\n",
    "par.loc['cn2', 'parubnd'] = 92\n",
    "par.loc['cn2', 'offset'] = -1\n",
    "\n",
    "# sol_k()\n",
    "par.loc['sol_k()', 'parval1'] = 12\n",
    "par.loc['sol_k()', 'parlbnd'] = 0.7\n",
    "par.loc['sol_k()', 'parubnd'] = 57\n",
    "par.loc['sol_k()', 'offset'] = -1\n",
    "\n",
    "# sol_awc()\n",
    "par.loc['sol_awc()', 'parval1'] = 1.001\n",
    "par.loc['sol_awc()', 'parlbnd'] = 0.5\n",
    "par.loc['sol_awc()', 'parubnd'] = 1.5\n",
    "par.loc['sol_awc()', 'offset'] = -1\n",
    "\n",
    "# ESCO\n",
    "par.loc['esco', 'parval1'] = 1.001\n",
    "par.loc['esco', 'parlbnd'] = 0.5\n",
    "par.loc['esco', 'parubnd'] = 1.5\n",
    "par.loc['esco', 'offset'] = -1\n"
   ]
  },
  {
   "cell_type": "code",
   "execution_count": null,
   "id": "8d5c0751",
   "metadata": {},
   "outputs": [],
   "source": [
    "par"
   ]
  },
  {
   "cell_type": "markdown",
   "id": "8367b592",
   "metadata": {},
   "source": [
    "## 5.3 Assign parameter group name"
   ]
  },
  {
   "cell_type": "code",
   "execution_count": null,
   "id": "545fcf06",
   "metadata": {},
   "outputs": [],
   "source": [
    "# set observation group\n",
    "obd = pst.observation_data\n",
    "obd"
   ]
  },
  {
   "cell_type": "code",
   "execution_count": null,
   "id": "9f54465f",
   "metadata": {},
   "outputs": [],
   "source": [
    "# Change obd group name\n",
    "for i in range(len(obd)):\n",
    "    if obd.iloc[i, 0][:3] == 'sub':\n",
    "        obd.iloc[i, 3] = obd.iloc[i, 0][:-7]\n",
    "    else:\n",
    "        obd.iloc[i, 3] = obd.iloc[i, 0][:-9]\n",
    "obd"
   ]
  },
  {
   "cell_type": "markdown",
   "id": "60ad74cc",
   "metadata": {},
   "source": [
    "## 5.4 Provide actual observed values to control file"
   ]
  },
  {
   "cell_type": "code",
   "execution_count": null,
   "id": "8eb36941",
   "metadata": {},
   "outputs": [],
   "source": [
    "# Streamflow\n",
    "stf_obd = pd.read_csv('stf_mon.obd',\n",
    "                       sep='\\t',\n",
    "                       index_col = 0,\n",
    "                       parse_dates = True,\n",
    "                       na_values=[-999, '']\n",
    "                     )\n",
    "stf_obd = stf_obd[cal_start: cal_end]\n",
    "stf_obd"
   ]
  },
  {
   "cell_type": "code",
   "execution_count": null,
   "id": "d5f09726",
   "metadata": {},
   "outputs": [],
   "source": [
    "# watertable\n",
    "dtw_obd = pd.read_csv('modflow.obd',\n",
    "                       sep='\\t',\n",
    "                       index_col = 0,\n",
    "                       parse_dates = True,\n",
    "                       na_values=[-999, '']\n",
    "                     )\n",
    "dtw_obd = dtw_obd[cal_start: cal_end]\n",
    "dtw_obd"
   ]
  },
  {
   "cell_type": "code",
   "execution_count": null,
   "id": "da5126c1",
   "metadata": {},
   "outputs": [],
   "source": [
    "# Get sub list based on obd order\n",
    "obd_order = []\n",
    "for i in obd.obgnme.tolist():\n",
    "    if i not in obd_order:\n",
    "        obd_order.append(i)\n",
    "obd_order"
   ]
  },
  {
   "cell_type": "code",
   "execution_count": null,
   "id": "2b095b32",
   "metadata": {},
   "outputs": [],
   "source": [
    "stf_obd"
   ]
  },
  {
   "cell_type": "code",
   "execution_count": null,
   "id": "e6ff23aa",
   "metadata": {},
   "outputs": [],
   "source": [
    "dtw_obd"
   ]
  },
  {
   "cell_type": "code",
   "execution_count": null,
   "id": "65a390c2",
   "metadata": {},
   "outputs": [],
   "source": [
    "# get total list from each sub obd, delete na vals\n",
    "tot_obd = []\n",
    "for i in obd_order[:1]:\n",
    "    tot_obd += stf_obd[i].dropna().tolist()\n",
    "    print(i)\n",
    "for i in obd_order[1:]:\n",
    "    tot_obd += dtw_obd[i].dropna().tolist()\n",
    "    print(i)\n",
    "\n",
    "len(tot_obd)"
   ]
  },
  {
   "cell_type": "code",
   "execution_count": null,
   "id": "969f73d8",
   "metadata": {},
   "outputs": [],
   "source": [
    "obd.loc[:, 'obsval'] = tot_obd\n",
    "obd"
   ]
  },
  {
   "cell_type": "markdown",
   "id": "253af0e6",
   "metadata": {},
   "source": [
    "# 6. Create new control file with settings"
   ]
  },
  {
   "cell_type": "code",
   "execution_count": null,
   "id": "6ab841bc",
   "metadata": {},
   "outputs": [],
   "source": [
    "pst.control_data.noptmax=0\n",
    "pst.model_command = 'python forward_run.py'\n",
    "pst.write('uml_pest.pst')"
   ]
  },
  {
   "cell_type": "code",
   "execution_count": null,
   "id": "a1ad4072",
   "metadata": {},
   "outputs": [],
   "source": []
  }
 ],
 "metadata": {
  "kernelspec": {
   "display_name": "Python 3",
   "language": "python",
   "name": "python3"
  },
  "language_info": {
   "codemirror_mode": {
    "name": "ipython",
    "version": 3
   },
   "file_extension": ".py",
   "mimetype": "text/x-python",
   "name": "python",
   "nbconvert_exporter": "python",
   "pygments_lexer": "ipython3",
   "version": "3.9.10"
  }
 },
 "nbformat": 4,
 "nbformat_minor": 5
}
