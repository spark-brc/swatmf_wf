{
 "cells": [
  {
   "cell_type": "markdown",
   "id": "1cc50204",
   "metadata": {},
   "source": [
    "# 01. Let's import necessary libraries"
   ]
  },
  {
   "cell_type": "code",
   "execution_count": null,
   "id": "848f2a87",
   "metadata": {},
   "outputs": [],
   "source": [
    "import os\n",
    "import shutil\n",
    "import warnings\n",
    "warnings.filterwarnings(\"ignore\")\n",
    "warnings.filterwarnings(\"ignore\", category=DeprecationWarning) \n",
    "import pandas as pd\n",
    "import numpy as np\n",
    "import matplotlib.pyplot as plt;\n",
    "import psutil\n",
    "\n",
    "import sys\n",
    "import pyemu\n",
    "import flopy\n",
    "import swatmf\n",
    "assert \"dependencies\" in flopy.__file__\n",
    "assert \"dependencies\" in pyemu.__file__\n",
    "assert \"dependencies\" in swatmf.__file__"
   ]
  },
  {
   "cell_type": "markdown",
   "id": "ea251d91-4d5e-4811-85ee-2697bf7057dc",
   "metadata": {},
   "source": [
    "- ## work with the latest version of swatmf"
   ]
  },
  {
   "cell_type": "code",
   "execution_count": null,
   "id": "ee2bbe29-0dbd-4ced-87de-12af1c3ad22b",
   "metadata": {},
   "outputs": [],
   "source": [
    "swatmf.__version__"
   ]
  },
  {
   "cell_type": "code",
   "execution_count": null,
   "id": "8fa35c62-0721-43af-8283-45d4e8b3908f",
   "metadata": {},
   "outputs": [],
   "source": [
    "from swatmf import swatmf_pst_utils"
   ]
  },
  {
   "cell_type": "code",
   "execution_count": null,
   "id": "8ec16b5e-1150-4521-9505-33b9922ae8c7",
   "metadata": {},
   "outputs": [],
   "source": []
  },
  {
   "cell_type": "markdown",
   "id": "45174ce3-f464-4cff-90b2-ac712bad6712",
   "metadata": {},
   "source": [
    "# 02. write swatmf.con file and initial setup"
   ]
  },
  {
   "cell_type": "code",
   "execution_count": null,
   "id": "68cfc503",
   "metadata": {
    "scrolled": true
   },
   "outputs": [],
   "source": [
    "swatmf_pst_utils.create_swatmf_con?"
   ]
  },
  {
   "cell_type": "markdown",
   "id": "7d76b1e7",
   "metadata": {},
   "source": []
  },
  {
   "cell_type": "code",
   "execution_count": null,
   "id": "a3d4c005-6a91-43dc-a4d1-17ea2a25514e",
   "metadata": {},
   "outputs": [],
   "source": [
    "# working directory\n",
    "prj_dir = \"D:/test\"\n",
    "swatmf_model = \"D:/spark-brc_gits/swatmf_wf/models/middle_bosque_1000/SWAT-MODFLOW\"\n",
    "swat_model = \"D:/spark-brc_gits/swatmf_wf/models/middle_bosque_1000/SWAT\""
   ]
  },
  {
   "cell_type": "code",
   "execution_count": null,
   "id": "fc1328a1",
   "metadata": {},
   "outputs": [],
   "source": [
    "# calibration period\n",
    "sim_start = '1/1/1985'\n",
    "warmup = 0\n",
    "cal_start = '1/1/1985'\n",
    "cal_end = '12/31/1985'\n",
    "# time step\n",
    "time_step = 'day'\n",
    "# locations (what our targets)\n",
    "subs = [58]\n",
    "grids = [501]"
   ]
  },
  {
   "cell_type": "markdown",
   "id": "714b9f31",
   "metadata": {},
   "source": [
    "## 02.01 PEST initial setup"
   ]
  },
  {
   "cell_type": "code",
   "execution_count": null,
   "id": "893b1e17",
   "metadata": {},
   "outputs": [],
   "source": [
    "# copy all necessary files (exes) to your working direcotry\n",
    "swatmf_pst_utils.init_setup(prj_dir, swatmf_model, swat_model)"
   ]
  },
  {
   "cell_type": "code",
   "execution_count": null,
   "id": "3eb0170b-1785-4da3-a4c0-de1487b77bf3",
   "metadata": {},
   "outputs": [],
   "source": [
    "swatmf_pst_utils.create_swatmf_con(\n",
    "    prj_dir, swatmf_model, sim_start, warmup, cal_start, cal_end, subs=subs, grids=grids)"
   ]
  },
  {
   "cell_type": "code",
   "execution_count": null,
   "id": "81c68d35",
   "metadata": {},
   "outputs": [],
   "source": [
    "# check MODFLOW model\n",
    "mname = \"modflow.mfn\"\n",
    "m = flopy.modflow.Modflow.load(mname,model_ws=\".\")\n",
    "m.check()"
   ]
  },
  {
   "cell_type": "markdown",
   "id": "18db09eb",
   "metadata": {},
   "source": [
    "# 03. Build template files"
   ]
  },
  {
   "cell_type": "markdown",
   "id": "bf9c306a",
   "metadata": {},
   "source": [
    "## 03.01 MODFLOW pval"
   ]
  },
  {
   "cell_type": "code",
   "execution_count": null,
   "id": "7b432c0b-93eb-4719-82c5-457b9e8362c6",
   "metadata": {},
   "outputs": [],
   "source": [
    "os.getcwd()"
   ]
  },
  {
   "cell_type": "code",
   "execution_count": null,
   "id": "8c062805",
   "metadata": {},
   "outputs": [],
   "source": [
    "# pval file\n",
    "pval_file = 'mf_1000.pval'"
   ]
  },
  {
   "cell_type": "code",
   "execution_count": null,
   "id": "e3c42826",
   "metadata": {},
   "outputs": [],
   "source": [
    "gw_par = pyemu.utils.gw_utils.modflow_pval_to_template_file(pval_file, tpl_file=None)\n",
    "gw_par"
   ]
  },
  {
   "cell_type": "markdown",
   "id": "eadabb62",
   "metadata": {},
   "source": [
    "## 03.02 SWAT model.in file"
   ]
  },
  {
   "cell_type": "code",
   "execution_count": null,
   "id": "6bd0545f",
   "metadata": {},
   "outputs": [],
   "source": [
    "# model.in file used\n",
    "sw_par = swatmf_pst_utils.model_in_to_template_file()\n",
    "sw_par"
   ]
  },
  {
   "cell_type": "markdown",
   "id": "8f0eb2b2",
   "metadata": {},
   "source": [
    "# 04. Build instruction files"
   ]
  },
  {
   "cell_type": "markdown",
   "id": "ac4903cf-247a-4929-8e4f-14570fde674e",
   "metadata": {},
   "source": [
    "### Let's do initial run!"
   ]
  },
  {
   "cell_type": "code",
   "execution_count": null,
   "id": "020a5af8-2116-4529-94a2-a23242ddd501",
   "metadata": {},
   "outputs": [],
   "source": [
    "pyemu.os_utils.run(r\"SWAT-MODFLOW3\", cwd=\".\")"
   ]
  },
  {
   "cell_type": "markdown",
   "id": "ce76961c",
   "metadata": {},
   "source": [
    "## 04.01 Streamflow (SWAT)"
   ]
  },
  {
   "cell_type": "code",
   "execution_count": null,
   "id": "5e738ea9",
   "metadata": {},
   "outputs": [],
   "source": [
    "# extract daily stream discharge\n",
    "swatmf_pst_utils.extract_day_stf(subs, sim_start, warmup, cal_start, cal_end)"
   ]
  },
  {
   "cell_type": "markdown",
   "id": "62748b00",
   "metadata": {},
   "source": [
    "## 04.02 match it with stf_obd file (SWAT)"
   ]
  },
  {
   "cell_type": "code",
   "execution_count": null,
   "id": "2439ccf0",
   "metadata": {},
   "outputs": [],
   "source": [
    "swatmf_pst_utils.stf_obd_to_ins('stf_058.txt', 'rch058',cal_start, cal_end)"
   ]
  },
  {
   "cell_type": "markdown",
   "id": "2dcd0109",
   "metadata": {},
   "source": [
    "## 04.03 Depth to watertable (MODFLOW) "
   ]
  },
  {
   "cell_type": "code",
   "execution_count": null,
   "id": "28f2b44a-5ce6-4ac7-9509-cfa29e8b9fa8",
   "metadata": {},
   "outputs": [],
   "source": [
    "swatmf_pst_utils.extract_depth_to_water(grids, sim_start, cal_end)"
   ]
  },
  {
   "cell_type": "code",
   "execution_count": null,
   "id": "6e2cfae6-e1bc-414e-b55c-79cd7de007b6",
   "metadata": {},
   "outputs": [],
   "source": [
    "mf_obs_grid_ids = pd.read_csv(\n",
    "                    'modflow.obs',\n",
    "                    sep=r'\\s+',\n",
    "                    usecols=[3, 4],\n",
    "                    skiprows=2,\n",
    "                    header=None\n",
    "                    )\n",
    "sim_grids = mf_obs_grid_ids.iloc[:, 0].tolist()"
   ]
  },
  {
   "cell_type": "code",
   "execution_count": null,
   "id": "17eb7144",
   "metadata": {},
   "outputs": [],
   "source": [
    "swatmf_pst_utils.extract_depth_to_water(sim_grids, sim_start, cal_end)"
   ]
  },
  {
   "cell_type": "markdown",
   "id": "d8b70176",
   "metadata": {},
   "source": [
    "## 04.04 match it with modflow.obd file (MODFLOW)"
   ]
  },
  {
   "cell_type": "code",
   "execution_count": null,
   "id": "60cab2c9",
   "metadata": {},
   "outputs": [],
   "source": [
    "swatmf_pst_utils.mf_obd_to_ins('dtw_501.txt', 'g_5699', cal_start, cal_end)"
   ]
  },
  {
   "cell_type": "markdown",
   "id": "ff674ea0",
   "metadata": {},
   "source": [
    "# 05. Create PEST control file"
   ]
  },
  {
   "cell_type": "code",
   "execution_count": null,
   "id": "61efa9f4",
   "metadata": {},
   "outputs": [],
   "source": [
    "io_files = pyemu.helpers.parse_dir_for_io_files('.')\n",
    "pst = pyemu.Pst.from_io_files(*io_files)"
   ]
  },
  {
   "cell_type": "code",
   "execution_count": null,
   "id": "db69059b",
   "metadata": {},
   "outputs": [],
   "source": [
    "par = pst.parameter_data\n",
    "par"
   ]
  },
  {
   "cell_type": "markdown",
   "id": "ed279c0d",
   "metadata": {},
   "source": [
    "## 05.01 Assign parameter group name"
   ]
  },
  {
   "cell_type": "code",
   "execution_count": null,
   "id": "352c1249",
   "metadata": {},
   "outputs": [],
   "source": [
    "for i in range(len(par)):\n",
    "    if (par.iloc[i, 0][:2]) == 'sy':\n",
    "        par.iloc[i, 6] = 'sy'\n",
    "    elif par.iloc[i, 0][:7] == 'rivbot_':\n",
    "        par.iloc[i, 6] = 'rivbot'\n",
    "    elif par.iloc[i, 0][:6] == 'rivcd_':\n",
    "        par.iloc[i, 6] = 'rivcd'\n",
    "    elif par.iloc[i, 0][:2] == 'hk':\n",
    "        par.iloc[i, 6] = 'hk'\n",
    "    else:\n",
    "        par.iloc[i, 6] = 'swat'\n",
    "print(par)"
   ]
  },
  {
   "cell_type": "markdown",
   "id": "19afbee2",
   "metadata": {},
   "source": [
    "## 05.02 Adjust initial parameter values and their ranges"
   ]
  },
  {
   "cell_type": "code",
   "execution_count": null,
   "id": "61297566",
   "metadata": {},
   "outputs": [],
   "source": [
    "count = 0\n",
    "for i in range(len(par)):\n",
    "    if (par.iloc[i, 6] == 'hk'):\n",
    "        par.iloc[i, 3] = 1  \n",
    "        par.iloc[i, 4] = 1.000000e-02\n",
    "        par.iloc[i, 5] = 1.000000e+02\n",
    "    elif (par.iloc[i, 6] == 'sy'):\n",
    "        par.iloc[i, 3] = 1.000000e-02       \n",
    "        par.iloc[i, 4] = 1.000000e-04\n",
    "        par.iloc[i, 5] = 0.6  \n",
    "    elif (par.iloc[i, 6] == 'rivbot'):\n",
    "        par.iloc[i, 3] = 3.001     \n",
    "        par.iloc[i, 4] = 0.001\n",
    "        par.iloc[i, 5] = 6\n",
    "        par.iloc[i, 8] = -3\n",
    "    elif (par.iloc[i, 6] == 'rivcd'):\n",
    "        par.iloc[i, 3] = 50.001       \n",
    "        par.iloc[i, 4] = 0.001\n",
    "        par.iloc[i, 5] = 100\n",
    "        par.iloc[i, 8] = -50\n",
    "    else:\n",
    "        count += 1\n",
    "count"
   ]
  },
  {
   "cell_type": "code",
   "execution_count": null,
   "id": "0a328615",
   "metadata": {},
   "outputs": [],
   "source": [
    "# CN2\n",
    "par.loc['cn2', 'parval1'] = 1.001\n",
    "par.loc['cn2', 'parlbnd'] = 0.8\n",
    "par.loc['cn2', 'parubnd'] = 1.2\n",
    "par.loc['cn2', 'offset'] = -1\n",
    "\n",
    "# ESCO\n",
    "par.loc['esco', 'parval1'] = 1.001\n",
    "par.loc['esco', 'parlbnd'] = 0.5\n",
    "par.loc['esco', 'parubnd'] = 1.5\n",
    "par.loc['esco', 'offset'] = -1\n",
    "\n",
    "# sol_awc()\n",
    "par.loc['sol_awc()', 'parval1'] = 1.001\n",
    "par.loc['sol_awc()', 'parlbnd'] = 0.5\n",
    "par.loc['sol_awc()', 'parubnd'] = 1.5\n",
    "par.loc['sol_awc()', 'offset'] = -1\n"
   ]
  },
  {
   "cell_type": "markdown",
   "id": "6d487bbc",
   "metadata": {},
   "source": [
    "## 05.03 Assign parameter group name"
   ]
  },
  {
   "cell_type": "code",
   "execution_count": 1,
   "id": "22b93418",
   "metadata": {},
   "outputs": [
    {
     "ename": "NameError",
     "evalue": "name 'pst' is not defined",
     "output_type": "error",
     "traceback": [
      "\u001b[1;31m---------------------------------------------------------------------------\u001b[0m",
      "\u001b[1;31mNameError\u001b[0m                                 Traceback (most recent call last)",
      "Cell \u001b[1;32mIn[1], line 2\u001b[0m\n\u001b[0;32m      1\u001b[0m \u001b[38;5;66;03m# set observation group\u001b[39;00m\n\u001b[1;32m----> 2\u001b[0m obd \u001b[38;5;241m=\u001b[39m \u001b[43mpst\u001b[49m\u001b[38;5;241m.\u001b[39mobservation_data\n\u001b[0;32m      3\u001b[0m obd\n",
      "\u001b[1;31mNameError\u001b[0m: name 'pst' is not defined"
     ]
    }
   ],
   "source": [
    "# set observation group\n",
    "obd = pst.observation_data\n",
    "obd"
   ]
  },
  {
   "cell_type": "code",
   "execution_count": null,
   "id": "78f4acaf",
   "metadata": {},
   "outputs": [],
   "source": [
    "# Change obd group name\n",
    "for i in range(len(obd)):\n",
    "    obd.iloc[i, 3] = obd.iloc[i, 0][:-9]\n",
    "obd"
   ]
  },
  {
   "cell_type": "markdown",
   "id": "9c68a859",
   "metadata": {},
   "source": [
    "## 05.04 Provide actual observed values to control file"
   ]
  },
  {
   "cell_type": "code",
   "execution_count": null,
   "id": "6927bc39-c78c-4027-8b05-b4ee17658093",
   "metadata": {},
   "outputs": [],
   "source": [
    "os.getcwd()"
   ]
  },
  {
   "cell_type": "code",
   "execution_count": null,
   "id": "ac9f8086",
   "metadata": {},
   "outputs": [],
   "source": [
    "# Streamflow\n",
    "stf_obd = pd.read_csv('stf_day.obd.csv',\n",
    "                       index_col = 0,\n",
    "                       parse_dates = True,\n",
    "                       na_values=[-999, '']\n",
    "                     )\n",
    "stf_obd = stf_obd[cal_start: cal_end]\n",
    "stf_obd"
   ]
  },
  {
   "cell_type": "code",
   "execution_count": null,
   "id": "4f06f8fd",
   "metadata": {},
   "outputs": [],
   "source": [
    "# watertable\n",
    "dtw_obd = pd.read_csv('dtw_day.obd.csv',\n",
    "                       index_col = 0,\n",
    "                       parse_dates = True,\n",
    "                       na_values=[-999, '']\n",
    "                     )\n",
    "dtw_obd = dtw_obd[cal_start: cal_end]\n",
    "dtw_obd"
   ]
  },
  {
   "cell_type": "code",
   "execution_count": null,
   "id": "519bf837",
   "metadata": {},
   "outputs": [],
   "source": [
    "# Get sub list based on obd order\n",
    "obd_order = []\n",
    "for i in obd.obgnme.tolist():\n",
    "    if i not in obd_order:\n",
    "        obd_order.append(i)\n",
    "obd_order"
   ]
  },
  {
   "cell_type": "code",
   "execution_count": null,
   "id": "883af98d",
   "metadata": {},
   "outputs": [],
   "source": [
    "# get total list from each sub obd, delete na vals\n",
    "tot_obd = []\n",
    "for i in obd_order[:1]:\n",
    "    tot_obd += dtw_obd[i].dropna().tolist()\n",
    "    print(i)\n",
    "for i in obd_order[1:]:\n",
    "    tot_obd += stf_obd[i].dropna().tolist()\n",
    "    print(i)\n",
    "len(tot_obd)"
   ]
  },
  {
   "cell_type": "code",
   "execution_count": null,
   "id": "41d4fde8",
   "metadata": {},
   "outputs": [],
   "source": [
    "obd.loc[:, 'obsval'] = tot_obd\n",
    "obd"
   ]
  },
  {
   "cell_type": "markdown",
   "id": "617e031f",
   "metadata": {},
   "source": [
    "# 06. Create the control file with settings"
   ]
  },
  {
   "cell_type": "markdown",
   "id": "a1da8190-0fd6-4556-b799-50f5b2f06193",
   "metadata": {},
   "source": [
    "We can inspect all control data values using the `pst.control_data.formatted_values` attribute. Values are assigned defaults if not specified. Nice.:"
   ]
  },
  {
   "cell_type": "code",
   "execution_count": null,
   "id": "a41cc3a0-c66c-49df-954c-8a9696322347",
   "metadata": {},
   "outputs": [],
   "source": [
    "pst.control_data.formatted_values"
   ]
  },
  {
   "cell_type": "code",
   "execution_count": null,
   "id": "e91330b7",
   "metadata": {},
   "outputs": [],
   "source": [
    "pst.control_data.noptmax = 0 # replace 0 with \"zero\" and see what happens\n",
    "pst.model_command = 'python forward_run.py'"
   ]
  },
  {
   "cell_type": "markdown",
   "id": "ea292069-80e8-453b-9459-c2556d513358",
   "metadata": {},
   "source": [
    "- ### add new PEST++ variables like so:"
   ]
  },
  {
   "cell_type": "code",
   "execution_count": null,
   "id": "1fd0fb95-3fb9-4fcc-8f34-283414f91446",
   "metadata": {},
   "outputs": [],
   "source": [
    "# check the dictionary again\n",
    "pst.pestpp_options"
   ]
  },
  {
   "cell_type": "code",
   "execution_count": null,
   "id": "fcc3a4cd",
   "metadata": {},
   "outputs": [],
   "source": [
    "pst.write('mb_zon.pst', version=2)"
   ]
  },
  {
   "cell_type": "markdown",
   "id": "d7994e0f-c25e-41ec-89a6-ce3e64f3f719",
   "metadata": {},
   "source": [
    "- ### You can also read and load the existing pest control file."
   ]
  },
  {
   "cell_type": "code",
   "execution_count": null,
   "id": "3ea71e6d-76b1-4279-805f-0f2adfdeeddc",
   "metadata": {},
   "outputs": [],
   "source": [
    "pst_read = pyemu.Pst(os.path.join(swatmf_model,\"mb_zon.pst\"))"
   ]
  },
  {
   "cell_type": "code",
   "execution_count": null,
   "id": "b20d8ef8-5bc0-4273-a3d9-1bb05635752b",
   "metadata": {},
   "outputs": [],
   "source": [
    "pst_read.parameter_data"
   ]
  },
  {
   "cell_type": "code",
   "execution_count": null,
   "id": "c2feeeee-d88a-4003-89aa-3825ec0d1aa1",
   "metadata": {},
   "outputs": [],
   "source": []
  }
 ],
 "metadata": {
  "kernelspec": {
   "display_name": "Python 3 (ipykernel)",
   "language": "python",
   "name": "python3"
  },
  "language_info": {
   "codemirror_mode": {
    "name": "ipython",
    "version": 3
   },
   "file_extension": ".py",
   "mimetype": "text/x-python",
   "name": "python",
   "nbconvert_exporter": "python",
   "pygments_lexer": "ipython3",
   "version": "3.11.9"
  }
 },
 "nbformat": 4,
 "nbformat_minor": 5
}
