{
 "cells": [
  {
   "cell_type": "code",
   "execution_count": null,
   "id": "fc42d262",
   "metadata": {},
   "outputs": [],
   "source": [
    "import pyemu\n",
    "import os\n",
    "import warnings\n",
    "warnings.filterwarnings(\"ignore\")\n",
    "warnings.filterwarnings(\"ignore\", category=DeprecationWarning) \n",
    "import pandas as pd\n",
    "import matplotlib.pyplot as plt\n",
    "import psutil\n",
    "import shutil\n",
    "import numpy as np\n",
    "import sys"
   ]
  },
  {
   "cell_type": "code",
   "execution_count": null,
   "id": "86b127a0",
   "metadata": {},
   "outputs": [],
   "source": [
    "path = os.path.abspath(os.path.join(os.getcwd(), os.pardir))\n",
    "sys.path.insert(1, path)\n",
    "from swatmf import swatmf_pst_utils, swatmf_viz"
   ]
  },
  {
   "cell_type": "markdown",
   "id": "638b16e7-093e-4ede-b196-ef48841daf65",
   "metadata": {},
   "source": [
    "# 01. Set working directory"
   ]
  },
  {
   "cell_type": "code",
   "execution_count": null,
   "id": "539044c3",
   "metadata": {},
   "outputs": [],
   "source": [
    "# working directory\n",
    "wd = \"D:/spark/mb/main_zon_rw_ies\"\n",
    "os.chdir(wd)"
   ]
  },
  {
   "cell_type": "markdown",
   "id": "eb58d565-b422-4e86-a458-61f41fb1b48e",
   "metadata": {},
   "source": [
    "# 02. Initial Run"
   ]
  },
  {
   "cell_type": "code",
   "execution_count": null,
   "id": "dd834581",
   "metadata": {},
   "outputs": [],
   "source": [
    "# test run\n",
    "pyemu.os_utils.run(\"pestpp-ies mb_zon.pst\",cwd=wd)"
   ]
  },
  {
   "cell_type": "markdown",
   "id": "8eb51742-6b96-4a27-968e-7ae13f741e5f",
   "metadata": {},
   "source": [
    "# 03. Reweight"
   ]
  },
  {
   "cell_type": "code",
   "execution_count": null,
   "id": "89b0e91c",
   "metadata": {},
   "outputs": [],
   "source": [
    "# reweight\n",
    "pst = pyemu.Pst(os.path.join(wd,'mb_zon.pst'))\n",
    "pst.phi\n"
   ]
  },
  {
   "cell_type": "code",
   "execution_count": null,
   "id": "1d44e1b3",
   "metadata": {},
   "outputs": [],
   "source": [
    "balanced_groups = {grp:10000 for grp in pst.nnz_obs_groups}\n",
    "# print(pst.phi) #assumes \"my.res\" is colocated with \"my.pst\"\n",
    "pst.adjust_weights(obsgrp_dict=balanced_groups)"
   ]
  },
  {
   "cell_type": "code",
   "execution_count": null,
   "id": "e5c9a4ea",
   "metadata": {},
   "outputs": [],
   "source": [
    "os.getcwd()"
   ]
  },
  {
   "cell_type": "code",
   "execution_count": null,
   "id": "ca2fa1f0",
   "metadata": {},
   "outputs": [],
   "source": [
    "obs = pst.observation_data.copy()"
   ]
  },
  {
   "cell_type": "code",
   "execution_count": null,
   "id": "e2dfa6f3-b46d-4249-b5c4-680bf1171611",
   "metadata": {},
   "outputs": [],
   "source": [
    "pst.observation_data = obs"
   ]
  },
  {
   "cell_type": "code",
   "execution_count": null,
   "id": "e53c67f6-f14d-4ec9-99c8-1bbe492d0944",
   "metadata": {},
   "outputs": [],
   "source": [
    "pst.write('mb_zon_rw.pst', version=2)"
   ]
  },
  {
   "cell_type": "markdown",
   "id": "ec4f4430",
   "metadata": {},
   "source": [
    "# 04. Run IES"
   ]
  },
  {
   "cell_type": "markdown",
   "id": "9b6a5253-1b3c-4af1-92c8-cc552a1f4b17",
   "metadata": {},
   "source": [
    "## 04.1 Set up IES"
   ]
  },
  {
   "cell_type": "code",
   "execution_count": null,
   "id": "da317a17-7d7f-48e0-b1b3-e48aef28d92c",
   "metadata": {},
   "outputs": [],
   "source": [
    "# check number of cores on your computer\n",
    "num_workers = psutil.cpu_count(logical=False)"
   ]
  },
  {
   "cell_type": "code",
   "execution_count": null,
   "id": "9b7a82fe-0c65-495f-92be-7bdb7cf2679f",
   "metadata": {},
   "outputs": [],
   "source": [
    "pst_ies = pyemu.Pst(os.path.join(wd,\"mb_zon_rw.pst\"))\n",
    "# set IES\n",
    "pst_ies.pestpp_options['ies_num_reals'] = 300 # number of realization\n",
    "pst_ies.control_data.noptmax = 5 # number of iteration\n",
    "pst_ies.write('mb_zon_rw_ies.pst', version=2) # write new IES control file"
   ]
  },
  {
   "cell_type": "code",
   "execution_count": null,
   "id": "1019bd06-518a-40f1-ac79-768a3b2ed66d",
   "metadata": {},
   "outputs": [],
   "source": [
    "os.chdir(os.pardir)"
   ]
  },
  {
   "cell_type": "code",
   "execution_count": null,
   "id": "65995fec-a0ad-4964-8976-4ac23efa37aa",
   "metadata": {},
   "outputs": [],
   "source": [
    "os.getcwd()"
   ]
  },
  {
   "cell_type": "code",
   "execution_count": null,
   "id": "eb4df290",
   "metadata": {},
   "outputs": [],
   "source": [
    "m_d = os.path.join(os.getcwd(), \"main_zon_rw_ies02\")"
   ]
  },
  {
   "cell_type": "markdown",
   "id": "a6f13b73-dd27-436d-a1b2-919f76e1e6c9",
   "metadata": {},
   "source": [
    "## 04.2 Execute"
   ]
  },
  {
   "cell_type": "code",
   "execution_count": null,
   "id": "ce6d909f",
   "metadata": {},
   "outputs": [],
   "source": [
    "pyemu.os_utils.start_workers(wd, # the folder which contains the \"template\" PEST dataset\n",
    "                            'pestpp-ies', #the PEST software version we want to run\n",
    "                            'mb_zon_rw_ies.pst', # the control file to use with PEST\n",
    "                            num_workers=num_workers, #how many agents to deploy\n",
    "                            worker_root='.', #where to deploy the agent directories; relative to where python is running\n",
    "                            master_dir=m_d, #the manager directory,\n",
    "                            # reuse_master=True\n",
    "                            )"
   ]
  },
  {
   "cell_type": "markdown",
   "id": "d65c7967-e340-402f-a9d9-f14a0af16257",
   "metadata": {},
   "source": [
    "# 05. Analyze results\n",
    "## 05.1 Check model performance"
   ]
  },
  {
   "cell_type": "code",
   "execution_count": null,
   "id": "f643e6e0",
   "metadata": {},
   "outputs": [],
   "source": [
    "pst = pyemu.Pst(os.path.join(m_d,'mb_zon_rw_ies.pst')) # load control file"
   ]
  },
  {
   "cell_type": "code",
   "execution_count": null,
   "id": "4e9d8180",
   "metadata": {},
   "outputs": [],
   "source": [
    "# load prior simulation\n",
    "pr_oe = pyemu.ObservationEnsemble.from_csv(\n",
    "    pst=pst,filename=os.path.join(m_d,\"mb_zon_rw_ies.0.obs.csv\")\n",
    "    )\n",
    "# load posterior simulation\n",
    "pt_oe = pyemu.ObservationEnsemble.from_csv(pst=pst,filename=os.path.join(m_d,\"mb_zon_rw_ies.{0}.obs.csv\".format(pst.control_data.noptmax)))\n"
   ]
  },
  {
   "cell_type": "code",
   "execution_count": null,
   "id": "0982503a",
   "metadata": {
    "scrolled": true
   },
   "outputs": [],
   "source": [
    "# plot 1 to 1 scatter plot and residuals\n",
    "pyemu.plot_utils.res_1to1(pst);"
   ]
  },
  {
   "cell_type": "code",
   "execution_count": null,
   "id": "35bd7874",
   "metadata": {},
   "outputs": [],
   "source": [
    "# check phi values\n",
    "pt_oe.phi_vector"
   ]
  },
  {
   "cell_type": "code",
   "execution_count": null,
   "id": "f9d583f9",
   "metadata": {},
   "outputs": [],
   "source": [
    "# plot progress\n",
    "fig,ax = plt.subplots(1,1)\n",
    "pr_oe.phi_vector.apply(np.log10).hist(ax=ax,fc=\"0.5\",ec=\"none\",alpha=0.5,density=False)\n",
    "pt_oe.phi_vector.apply(np.log10).hist(ax=ax,fc=\"b\",ec=\"none\",alpha=0.5,density=False)\n",
    "_ = ax.set_xlabel(\"$log_{10}\\\\phi$\")"
   ]
  },
  {
   "cell_type": "markdown",
   "id": "002386c7-d070-4e0d-8db9-8a8e12659a17",
   "metadata": {},
   "source": [
    "## 05.2 Prior and Posterior parameter probability"
   ]
  },
  {
   "cell_type": "code",
   "execution_count": null,
   "id": "a0e99577-933f-4e3a-a8ce-84b61beab6ef",
   "metadata": {},
   "outputs": [],
   "source": [
    "prior_df = pyemu.ParameterEnsemble.from_csv(pst=pst,filename=os.path.join(m_d,\"mb_zon_rw_ies.{0}.par.csv\".format(0)))\n",
    "post_df = pyemu.ParameterEnsemble.from_csv(pst=pst,filename=os.path.join(m_d,\"mb_zon_rw_ies.{0}.par.csv\".format(pst.control_data.noptmax)))"
   ]
  },
  {
   "cell_type": "code",
   "execution_count": null,
   "id": "525d5038-27c1-4f66-987f-44b313c9550a",
   "metadata": {},
   "outputs": [],
   "source": [
    "df_pars = pd.read_csv(os.path.join(m_d, \"mb_zon_rw_ies.par_data.csv\"))\n",
    "sel_pars = df_pars.loc[df_pars[\"partrans\"]=='log']\n",
    "sel_pars"
   ]
  },
  {
   "cell_type": "code",
   "execution_count": null,
   "id": "53f4f0e1-c562-4e8d-895d-5bc4637a0e16",
   "metadata": {},
   "outputs": [],
   "source": [
    "swatmf_viz.plot_prior_posterior_par_hist(prior_df, post_df, sel_pars)"
   ]
  },
  {
   "cell_type": "markdown",
   "id": "7cdbea64-ff50-4fce-b2d0-c176dbd84416",
   "metadata": {},
   "source": [
    "## 05.3 Predictive Uncertainty"
   ]
  },
  {
   "cell_type": "code",
   "execution_count": null,
   "id": "db2c3b57",
   "metadata": {},
   "outputs": [],
   "source": [
    "swatmf_viz.plot_tseries_ensembles(pst, pr_oe, pt_oe, height=6, dot=True)"
   ]
  },
  {
   "cell_type": "code",
   "execution_count": null,
   "id": "92e4493f",
   "metadata": {},
   "outputs": [],
   "source": [
    "os.getcwd()"
   ]
  },
  {
   "cell_type": "code",
   "execution_count": null,
   "id": "f18a7a78",
   "metadata": {},
   "outputs": [],
   "source": [
    "pst.parrep(parfile=os.path.join(m_d, \"mb_zon_rw_ies.{0}.base.csv\".format(pst.control_data.noptmax)))"
   ]
  },
  {
   "cell_type": "code",
   "execution_count": null,
   "id": "f084929e",
   "metadata": {},
   "outputs": [],
   "source": [
    "# updates the model input files with parameter values\n",
    "pst.write_input_files(pst_path=m_d)"
   ]
  },
  {
   "cell_type": "code",
   "execution_count": null,
   "id": "58fadacc-4ede-4eed-9b3b-bc8a69becfda",
   "metadata": {},
   "outputs": [],
   "source": [
    "# run the model forward run; this applies all the SWAT and MODFLOW paarameters, executes SWAT-MODFLOW \n",
    "os.chdir(m_d)\n",
    "pyemu.os_utils.run('python forward_run.py')"
   ]
  }
 ],
 "metadata": {
  "kernelspec": {
   "display_name": "Python 3 (ipykernel)",
   "language": "python",
   "name": "python3"
  },
  "language_info": {
   "codemirror_mode": {
    "name": "ipython",
    "version": 3
   },
   "file_extension": ".py",
   "mimetype": "text/x-python",
   "name": "python",
   "nbconvert_exporter": "python",
   "pygments_lexer": "ipython3",
   "version": "3.10.6"
  }
 },
 "nbformat": 4,
 "nbformat_minor": 5
}
